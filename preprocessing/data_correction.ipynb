{
 "cells": [
  {
   "cell_type": "code",
   "execution_count": 1,
   "id": "f34ef287",
   "metadata": {},
   "outputs": [
    {
     "name": "stdout",
     "output_type": "stream",
     "text": [
      "已修复文件: D:\\陈教授组\\CHB-MIT\\chb01\\chb01-summary.txt\n",
      "已修复文件: D:\\陈教授组\\CHB-MIT\\chb02\\chb02-summary.txt\n",
      "已修复文件: D:\\陈教授组\\CHB-MIT\\chb03\\chb03-summary.txt\n",
      "已修复文件: D:\\陈教授组\\CHB-MIT\\chb04\\chb04-summary.txt\n",
      "已修复文件: D:\\陈教授组\\CHB-MIT\\chb05\\chb05-summary.txt\n",
      "已修复文件: D:\\陈教授组\\CHB-MIT\\chb06\\chb06-summary.txt\n",
      "已修复文件: D:\\陈教授组\\CHB-MIT\\chb07\\chb07-summary.txt\n",
      "已修复文件: D:\\陈教授组\\CHB-MIT\\chb08\\chb08-summary.txt\n",
      "已修复文件: D:\\陈教授组\\CHB-MIT\\chb09\\chb09-summary.txt\n",
      "已修复文件: D:\\陈教授组\\CHB-MIT\\chb10\\chb10-summary.txt\n",
      "已修复文件: D:\\陈教授组\\CHB-MIT\\chb11\\chb11-summary.txt\n",
      "已修复文件: D:\\陈教授组\\CHB-MIT\\chb12\\chb12-summary.txt\n",
      "已修复文件: D:\\陈教授组\\CHB-MIT\\chb13\\chb13-summary.txt\n",
      "已修复文件: D:\\陈教授组\\CHB-MIT\\chb14\\chb14-summary.txt\n",
      "已修复文件: D:\\陈教授组\\CHB-MIT\\chb15\\chb15-summary.txt\n",
      "已修复文件: D:\\陈教授组\\CHB-MIT\\chb16\\chb16-summary.txt\n",
      "已修复文件: D:\\陈教授组\\CHB-MIT\\chb17\\chb17-summary.txt\n",
      "已修复文件: D:\\陈教授组\\CHB-MIT\\chb18\\chb18-summary.txt\n",
      "已修复文件: D:\\陈教授组\\CHB-MIT\\chb19\\chb19-summary.txt\n",
      "已修复文件: D:\\陈教授组\\CHB-MIT\\chb20\\chb20-summary.txt\n",
      "已修复文件: D:\\陈教授组\\CHB-MIT\\chb21\\chb21-summary.txt\n",
      "已修复文件: D:\\陈教授组\\CHB-MIT\\chb22\\chb22-summary.txt\n",
      "已修复文件: D:\\陈教授组\\CHB-MIT\\chb23\\chb23-summary.txt\n",
      "已修复文件: D:\\陈教授组\\CHB-MIT\\chb24\\chb24-summary.txt\n"
     ]
    }
   ],
   "source": [
    "import re\n",
    "\n",
    "def fix_summary_file(file_path):\n",
    "    \"\"\"\n",
    "    修复 summary 文件中 File End Time: 后面小时 >=24 的时间格式\n",
    "    将其小时部分减去 24，转换为合法的 00:xx:xx 格式\n",
    "    \"\"\"\n",
    "    # 1. 读取文件内容\n",
    "    try:\n",
    "        with open(file_path, 'r', encoding='utf-8') as f:\n",
    "            content = f.read()\n",
    "    except FileNotFoundError:\n",
    "        print(f\"文件未找到: {file_path}\")\n",
    "        return\n",
    "    except Exception as e:\n",
    "        print(f\"读取文件失败 {file_path}: {e}\")\n",
    "        return\n",
    "\n",
    "    # 2. 定义替换函数（用于 re.sub 的回调）\n",
    "    def replace_if_24_plus(match):\n",
    "        prefix = match.group(1)  # \"File End Time: \"\n",
    "        hour_str = match.group(2)\n",
    "        minute_second = match.group(3)  # \"MM:SS\"\n",
    "\n",
    "        hour = int(hour_str)\n",
    "        new_hour = hour % 24  # 关键：对 24 取模，自动处理 >=24 的情况\n",
    "\n",
    "        return f\"{prefix}{new_hour:02d}:{minute_second}\"\n",
    "\n",
    "    # 3. 使用正则查找并替换所有 File End Time: HH:MM:SS 中小时 >=24 的情况\n",
    "    # 正则解释：\n",
    "    #   (File End Time: )(\\d+):(\\d{2}:\\d{2})\n",
    "    #   group1: 前缀；group2: 小时；group3: 分秒\n",
    "    fixed_content = re.sub(\n",
    "        r'(File End Time: )(\\d+):(\\d{2}:\\d{2})',\n",
    "        replace_if_24_plus,\n",
    "        content\n",
    "    )\n",
    "\n",
    "    # 4. 写回原文件\n",
    "    try:\n",
    "        with open(file_path, 'w', encoding='utf-8') as f:\n",
    "            f.write(fixed_content)\n",
    "        print(f\"已修复文件: {file_path}\")\n",
    "    except Exception as e:\n",
    "        print(f\"写入文件失败 {file_path}: {e}\")\n",
    "\n",
    "# 使用示例（不变）\n",
    "for i in range(1, 25):\n",
    "    summary_path = fr'D:\\陈教授组\\CHB-MIT\\chb{i:02d}\\chb{i:02d}-summary.txt'\n",
    "    fix_summary_file(summary_path)"
   ]
  },
  {
   "cell_type": "code",
   "execution_count": null,
   "id": "55544add",
   "metadata": {},
   "outputs": [],
   "source": []
  }
 ],
 "metadata": {
  "kernelspec": {
   "display_name": "Python 3",
   "language": "python",
   "name": "python3"
  },
  "language_info": {
   "codemirror_mode": {
    "name": "ipython",
    "version": 3
   },
   "file_extension": ".py",
   "mimetype": "text/x-python",
   "name": "python",
   "nbconvert_exporter": "python",
   "pygments_lexer": "ipython3",
   "version": "3.10.8"
  }
 },
 "nbformat": 4,
 "nbformat_minor": 5
}
